{
 "cells": [
  {
   "cell_type": "code",
   "execution_count": 1,
   "source": [
    "import numpy as np\n",
    "import scipy as sp\n",
    "import smetana\n",
    "from reframed import Environment\n",
    "import cobra\n",
    "from smetana.interface import load_media_db\n",
    "from smetana.legacy import Community\n",
    "from smetana.interface import define_environment\n",
    "from smetana.smetana import minimal_environment\n",
    "\n"
   ],
   "outputs": [],
   "metadata": {}
  },
  {
   "cell_type": "code",
   "execution_count": 2,
   "source": [
    "model_paths = {'L_lactis': './models/L_lactis/L_lactis.xml',\n",
    "                'L_plantarum': './models/L_plantarum/L_plantarum.xml',\n",
    "                'S_cerevisiae': './models/S_cerevisiae/12918_2012_1082_MOESM2_ESM.XML'}\n",
    "media_db = load_media_db('./media_db.tsv')\n"
   ],
   "outputs": [],
   "metadata": {}
  },
  {
   "cell_type": "code",
   "execution_count": 4,
   "source": [
    "%%capture\n",
    "l_lactis = cobra.io.read_sbml_model(model_paths['L_lactis'])\n",
    "l_plant_model = cobra.io.read_sbml_model(model_paths['L_plantarum'])\n"
   ],
   "outputs": [],
   "metadata": {}
  },
  {
   "cell_type": "code",
   "execution_count": 11,
   "source": [
    "from smetana.interface import load_communities\n",
    "from smetana.interface import load_media\n",
    "\n",
    "model_cache, comm_dict, other_models = load_communities([model_paths['L_lactis'], model_paths['L_plantarum'],], None, None, flavor='cobra')\n",
    "community = Community(comm_id, comm_models, copy_models=False)\n",
    "comm_models = [model_cache.get_model(org_id, reset_id=True) for org_id in organisms]\n",
    "community = Community('all', comm_models, copy_models=False)\n",
    "compl_env = Environment.complete(community.merged, max_uptake=1.0)\n",
    "print(compl_env)\n"
   ],
   "outputs": [
    {
     "output_type": "stream",
     "name": "stdout",
     "text": [
      "R_EX_M_glc__D_e_pool\t-10.0\tinf\n",
      "R_EX_M_h2o_e_pool\t-10.0\tinf\n",
      "R_EX_M_14glucan_e_pool\t-10.0\tinf\n",
      "R_EX_M_26dap__M_e_pool\t-10.0\tinf\n",
      "R_EX_M_h_e_pool\t-10.0\tinf\n",
      "R_EX_M_2hxmp_e_pool\t-10.0\tinf\n",
      "R_EX_M_2pglyc_e_pool\t-10.0\tinf\n",
      "R_EX_M_3oxoadp_e_pool\t-10.0\tinf\n",
      "R_EX_M_LalaDgluMdap_e_pool\t-10.0\tinf\n",
      "R_EX_M_ala__L_e_pool\t-10.0\tinf\n",
      "R_EX_M_cl_e_pool\t-10.0\tinf\n",
      "R_EX_M_dextrin_e_pool\t-10.0\tinf\n",
      "R_EX_M_arab__L_e_pool\t-10.0\tinf\n",
      "R_EX_M_abt__L_e_pool\t-10.0\tinf\n",
      "R_EX_M_4abut_e_pool\t-10.0\tinf\n",
      "R_EX_M_acald_e_pool\t-10.0\tinf\n",
      "R_EX_M_ac_e_pool\t-10.0\tinf\n",
      "R_EX_M_chol_e_pool\t-10.0\tinf\n",
      "R_EX_M_pi_e_pool\t-10.0\tinf\n",
      "R_EX_M_ribflv_e_pool\t-10.0\tinf\n",
      "R_EX_M_nh4_e_pool\t-10.0\tinf\n",
      "R_EX_M_ade_e_pool\t-10.0\tinf\n",
      "R_EX_M_mal__L_e_pool\t-10.0\tinf\n",
      "R_EX_M_alaala_e_pool\t-10.0\tinf\n",
      "R_EX_M_cys__L_e_pool\t-10.0\tinf\n",
      "R_EX_M_ala__D_e_pool\t-10.0\tinf\n",
      "R_EX_M_gly_e_pool\t-10.0\tinf\n",
      "R_EX_M_ser__L_e_pool\t-10.0\tinf\n",
      "R_EX_M_arg__L_e_pool\t-10.0\tinf\n",
      "R_EX_M_cgly_e_pool\t-10.0\tinf\n",
      "R_EX_M_malt_e_pool\t-10.0\tinf\n",
      "R_EX_M_amylose300_e_pool\t-10.0\tinf\n",
      "R_EX_M_anhgm_e_pool\t-10.0\tinf\n",
      "R_EX_M_arab__D_e_pool\t-10.0\tinf\n",
      "R_EX_M_fe3_e_pool\t-10.0\tinf\n",
      "R_EX_M_arbt_e_pool\t-10.0\tinf\n",
      "R_EX_M_lys__L_e_pool\t-10.0\tinf\n",
      "R_EX_M_orn_e_pool\t-10.0\tinf\n",
      "R_EX_M_k_e_pool\t-10.0\tinf\n",
      "R_EX_M_pro__L_e_pool\t-10.0\tinf\n",
      "R_EX_M_cellb_e_pool\t-10.0\tinf\n",
      "R_EX_M_meoh_e_pool\t-10.0\tinf\n",
      "R_EX_M_madg_e_pool\t-10.0\tinf\n",
      "R_EX_M_mbdg_e_pool\t-10.0\tinf\n",
      "R_EX_M_but_e_pool\t-10.0\tinf\n",
      "R_EX_M_ca2_e_pool\t-10.0\tinf\n",
      "R_EX_M_mg2_e_pool\t-10.0\tinf\n",
      "R_EX_M_mn2_e_pool\t-10.0\tinf\n",
      "R_EX_M_cobalt2_e_pool\t-10.0\tinf\n",
      "R_EX_M_zn2_e_pool\t-10.0\tinf\n",
      "R_EX_M_succ_e_pool\t-10.0\tinf\n",
      "R_EX_M_for_e_pool\t-10.0\tinf\n",
      "R_EX_M_co2_e_pool\t-10.0\tinf\n",
      "R_EX_M_crn_e_pool\t-10.0\tinf\n",
      "R_EX_M_cu2_e_pool\t-10.0\tinf\n",
      "R_EX_M_o2_e_pool\t-10.0\tinf\n",
      "R_EX_M_glu__L_e_pool\t-10.0\tinf\n",
      "R_EX_M_diact_e_pool\t-10.0\tinf\n",
      "R_EX_M_hmfurn_c_pool\t-10.0\tinf\n",
      "R_EX_M_drib_e_pool\t-10.0\tinf\n",
      "R_EX_M_ser__D_e_pool\t-10.0\tinf\n",
      "R_EX_M_fe2_e_pool\t-10.0\tinf\n",
      "R_EX_M_enter_e_pool\t-10.0\tinf\n",
      "R_EX_M_feenter_e_pool\t-10.0\tinf\n",
      "R_EX_M_fol_e_pool\t-10.0\tinf\n",
      "R_EX_M_fru_e_pool\t-10.0\tinf\n",
      "R_EX_M_fum_e_pool\t-10.0\tinf\n",
      "R_EX_M_gam_e_pool\t-10.0\tinf\n",
      "R_EX_M_gthrd_e_pool\t-10.0\tinf\n",
      "R_EX_M_glcn_e_pool\t-10.0\tinf\n",
      "R_EX_M_glcn__D_e_pool\t-10.0\tinf\n",
      "R_EX_M_glcur_e_pool\t-10.0\tinf\n",
      "R_EX_M_glyc3p_e_pool\t-10.0\tinf\n",
      "R_EX_M_glyald_e_pool\t-10.0\tinf\n",
      "R_EX_M_glyb_e_pool\t-10.0\tinf\n",
      "R_EX_M_glyclt_e_pool\t-10.0\tinf\n",
      "R_EX_M_glycogen1500_e_pool\t-10.0\tinf\n",
      "R_EX_M_glyc_e_pool\t-10.0\tinf\n",
      "R_EX_M_gthox_e_pool\t-10.0\tinf\n",
      "R_EX_M_h2o2_e_pool\t-10.0\tinf\n",
      "R_EX_M_gua_e_pool\t-10.0\tinf\n",
      "R_EX_M_h2s_e_pool\t-10.0\tinf\n",
      "R_EX_M_4hphac_e_pool\t-10.0\tinf\n",
      "R_EX_M_hqn_e_pool\t-10.0\tinf\n",
      "R_EX_M_hxan_e_pool\t-10.0\tinf\n",
      "R_EX_M_ile__L_e_pool\t-10.0\tinf\n",
      "R_EX_M_lcts_e_pool\t-10.0\tinf\n",
      "R_EX_M_lac__L_e_pool\t-10.0\tinf\n",
      "R_EX_M_man1p_e_pool\t-10.0\tinf\n",
      "R_EX_M_murein5p5p_e_pool\t-10.0\tinf\n",
      "R_EX_M_murein5px4p_e_pool\t-10.0\tinf\n",
      "R_EX_M_murein5px3p_e_pool\t-10.0\tinf\n",
      "R_EX_M_murein5p5p5p_e_pool\t-10.0\tinf\n",
      "R_EX_M_murein5px4px4p_e_pool\t-10.0\tinf\n",
      "R_EX_M_murein4px4p_e_pool\t-10.0\tinf\n",
      "R_EX_M_murein4px4px4p_e_pool\t-10.0\tinf\n",
      "R_EX_M_murein5p4p_e_pool\t-10.0\tinf\n",
      "R_EX_M_murein4p4p_e_pool\t-10.0\tinf\n",
      "R_EX_M_murein4p3p_e_pool\t-10.0\tinf\n",
      "R_EX_M_murein5p3p_e_pool\t-10.0\tinf\n",
      "R_EX_M_melib_e_pool\t-10.0\tinf\n",
      "R_EX_M_met__L_e_pool\t-10.0\tinf\n",
      "R_EX_M_mnl_e_pool\t-10.0\tinf\n",
      "R_EX_M_uaagmda_e_pool\t-10.0\tinf\n",
      "R_EX_M_udcpdp_e_pool\t-10.0\tinf\n",
      "R_EX_M_mso3_e_pool\t-10.0\tinf\n",
      "R_EX_M_nmn_e_pool\t-10.0\tinf\n",
      "R_EX_M_no2_e_pool\t-10.0\tinf\n",
      "R_EX_M_no3_e_pool\t-10.0\tinf\n",
      "R_EX_M_udcpo5_e_pool\t-10.0\tinf\n",
      "R_EX_M_pnto__R_e_pool\t-10.0\tinf\n",
      "R_EX_M_pyr_e_pool\t-10.0\tinf\n",
      "R_EX_M_so4_e_pool\t-10.0\tinf\n",
      "R_EX_M_urate_e_pool\t-10.0\tinf\n",
      "R_EX_M_val__L_e_pool\t-10.0\tinf\n",
      "R_EX_M_spmd_e_pool\t-10.0\tinf\n",
      "R_EX_M_urea_e_pool\t-10.0\tinf\n",
      "R_EX_M_rib__D_e_pool\t-10.0\tinf\n",
      "R_EX_M_salchs4fe_e_pool\t-10.0\tinf\n",
      "R_EX_M_salchs4_e_pool\t-10.0\tinf\n",
      "R_EX_M_salcn_e_pool\t-10.0\tinf\n",
      "R_EX_M_sbt__D_e_pool\t-10.0\tinf\n",
      "R_EX_M_sucr_e_pool\t-10.0\tinf\n",
      "R_EX_M_thm_e_pool\t-10.0\tinf\n",
      "R_EX_M_tre_e_pool\t-10.0\tinf\n",
      "R_EX_M_udcpp_e_pool\t-10.0\tinf\n",
      "R_EX_M_ura_e_pool\t-10.0\tinf\n",
      "R_EX_M_xan_e_pool\t-10.0\tinf\n",
      "R_EX_M_xyl__D_e_pool\t-10.0\tinf\n",
      "R_EX_M_12ppd__S_e_pool\t-10.0\tinf\n",
      "R_EX_M_23camp_e_pool\t-10.0\tinf\n",
      "R_EX_M_23ccmp_e_pool\t-10.0\tinf\n",
      "R_EX_M_23cgmp_e_pool\t-10.0\tinf\n",
      "R_EX_M_23cump_e_pool\t-10.0\tinf\n",
      "R_EX_M_leu__L_e_pool\t-10.0\tinf\n",
      "R_EX_M_4abz_e_pool\t-10.0\tinf\n",
      "R_EX_M_LalaDgluMdapDala_e_pool\t-10.0\tinf\n",
      "R_EX_M_5drib_c_pool\t-10.0\tinf\n",
      "R_EX_M_5mtr_e_pool\t-10.0\tinf\n",
      "R_EX_M_acmum_e_pool\t-10.0\tinf\n",
      "R_EX_M_acnam_e_pool\t-10.0\tinf\n",
      "R_EX_M_actn__R_e_pool\t-10.0\tinf\n",
      "R_EX_M_adn_e_pool\t-10.0\tinf\n",
      "R_EX_M_akg_e_pool\t-10.0\tinf\n",
      "R_EX_M_gln__L_e_pool\t-10.0\tinf\n",
      "R_EX_M_thr__L_e_pool\t-10.0\tinf\n",
      "R_EX_M_ala_B_e_pool\t-10.0\tinf\n",
      "R_EX_M_bzalc_e_pool\t-10.0\tinf\n",
      "R_EX_M_bz_e_pool\t-10.0\tinf\n",
      "R_EX_M_chols_e_pool\t-10.0\tinf\n",
      "R_EX_M_cit_e_pool\t-10.0\tinf\n",
      "R_EX_M_coa_e_pool\t-10.0\tinf\n",
      "R_EX_M_csn_e_pool\t-10.0\tinf\n",
      "R_EX_M_cu_e_pool\t-10.0\tinf\n",
      "R_EX_M_cytd_e_pool\t-10.0\tinf\n",
      "R_EX_M_dha_e_pool\t-10.0\tinf\n",
      "R_EX_M_lac__D_e_pool\t-10.0\tinf\n",
      "R_EX_M_etha_e_pool\t-10.0\tinf\n",
      "R_EX_M_eths_e_pool\t-10.0\tinf\n",
      "R_EX_M_g3pe_e_pool\t-10.0\tinf\n",
      "R_EX_M_gal_e_pool\t-10.0\tinf\n",
      "R_EX_M_galt_e_pool\t-10.0\tinf\n",
      "R_EX_M_gsn_e_pool\t-10.0\tinf\n",
      "R_EX_M_3hcinnm_e_pool\t-10.0\tinf\n",
      "R_EX_M_his__L_e_pool\t-10.0\tinf\n",
      "R_EX_M_3hpppn_e_pool\t-10.0\tinf\n",
      "R_EX_M_inost_e_pool\t-10.0\tinf\n",
      "R_EX_M_lipopb_c_pool\t-10.0\tinf\n",
      "R_EX_M_malthx_e_pool\t-10.0\tinf\n",
      "R_EX_M_maltttr_e_pool\t-10.0\tinf\n",
      "R_EX_M_man_e_pool\t-10.0\tinf\n",
      "R_EX_M_metox_e_pool\t-10.0\tinf\n",
      "R_EX_M_metox__R_e_pool\t-10.0\tinf\n",
      "R_EX_M_mmet_e_pool\t-10.0\tinf\n",
      "R_EX_M_mththf_c_pool\t-10.0\tinf\n",
      "R_EX_M_uri_e_pool\t-10.0\tinf\n",
      "R_EX_M_ptrc_e_pool\t-10.0\tinf\n",
      "R_EX_M_raffin_e_pool\t-10.0\tinf\n",
      "R_EX_M_rbt_e_pool\t-10.0\tinf\n",
      "R_EX_M_rmn_e_pool\t-10.0\tinf\n",
      "R_EX_M_s_e_pool\t-10.0\tinf\n",
      "R_EX_M_tartr__L_e_pool\t-10.0\tinf\n",
      "R_EX_M_thymd_e_pool\t-10.0\tinf\n",
      "R_EX_M_4hba_c_pool\t-10.0\tinf\n"
     ]
    }
   ],
   "metadata": {}
  },
  {
   "cell_type": "code",
   "execution_count": 8,
   "source": [
    "for comm_id, organisms in list(comm_dict.items()):\n",
    "    comm_models = [model_cache.get_model(org_id, reset_id=True) for org_id in organisms]\n",
    "    community = Community(comm_id, comm_models, copy_models=False)\n",
    "    env = minimal_environment(community, True, verbose=True, min_mol_weight=False,\n",
    "                                use_lp=True, max_uptake=10.0)\n",
    "    \n",
    "    compl_env = Environment.complete(community.merged, max_uptake=10.0)\n",
    "env"
   ],
   "outputs": [
    {
     "output_type": "execute_result",
     "data": {
      "text/plain": [
       "R_EX_M_xan_e_pool\t-10.0\tinf\n",
       "R_EX_M_ac_e_pool\t-10.0\tinf\n",
       "R_EX_M_orn_e_pool\t-10.0\tinf\n",
       "R_EX_M_ala__D_e_pool\t-10.0\tinf\n",
       "R_EX_M_co2_e_pool\t-10.0\tinf\n",
       "R_EX_M_udcpo5_e_pool\t-10.0\tinf"
      ]
     },
     "metadata": {},
     "execution_count": 8
    }
   ],
   "metadata": {}
  },
  {
   "cell_type": "code",
   "execution_count": 133,
   "source": [
    "community.merged.reactions['R_EX_M_ala__D_e_pool'].lb"
   ],
   "outputs": [
    {
     "output_type": "execute_result",
     "data": {
      "text/plain": [
       "-inf"
      ]
     },
     "metadata": {},
     "execution_count": 133
    }
   ],
   "metadata": {}
  },
  {
   "cell_type": "code",
   "execution_count": 10,
   "source": [
    "comm_dict"
   ],
   "outputs": [
    {
     "output_type": "execute_result",
     "data": {
      "text/plain": [
       "{'all': ['L_lactis', 'L_plantarum']}"
      ]
     },
     "metadata": {},
     "execution_count": 10
    }
   ],
   "metadata": {}
  },
  {
   "cell_type": "code",
   "execution_count": 45,
   "source": [
    "\n",
    "medium_id = \"minimal\"\n"
   ],
   "outputs": [
    {
     "output_type": "error",
     "ename": "AttributeError",
     "evalue": "'Model' object has no attribute 'biomass_reaction'",
     "traceback": [
      "\u001b[0;31m---------------------------------------------------------------------------\u001b[0m",
      "\u001b[0;31mAttributeError\u001b[0m                            Traceback (most recent call last)",
      "\u001b[0;32m/var/folders/59/mfl58qxj151bv31dsnfrs1lh0000gn/T/ipykernel_14048/755397275.py\u001b[0m in \u001b[0;36m<module>\u001b[0;34m\u001b[0m\n\u001b[1;32m      3\u001b[0m \u001b[0;34m\u001b[0m\u001b[0m\n\u001b[1;32m      4\u001b[0m \u001b[0;34m\u001b[0m\u001b[0m\n\u001b[0;32m----> 5\u001b[0;31m env = minimal_environment(community, True, verbose=True, min_mol_weight=True,\n\u001b[0m\u001b[1;32m      6\u001b[0m                             use_lp=False, max_uptake=10)\n\u001b[1;32m      7\u001b[0m \u001b[0mmedium_id\u001b[0m \u001b[0;34m=\u001b[0m \u001b[0;34m\"minimal\"\u001b[0m\u001b[0;34m\u001b[0m\u001b[0;34m\u001b[0m\u001b[0m\n",
      "\u001b[0;32m~/opt/miniconda3/envs/cobrapy_env/lib/python3.8/site-packages/smetana/smetana.py\u001b[0m in \u001b[0;36mminimal_environment\u001b[0;34m(community, direction, min_mol_weight, min_growth, max_uptake, validate, verbose, use_lp)\u001b[0m\n\u001b[1;32m    371\u001b[0m                         validate=False, verbose=True, use_lp=False):\n\u001b[1;32m    372\u001b[0m \u001b[0;34m\u001b[0m\u001b[0m\n\u001b[0;32m--> 373\u001b[0;31m     \u001b[0mexch_reactions\u001b[0m \u001b[0;34m=\u001b[0m \u001b[0mset\u001b[0m\u001b[0;34m(\u001b[0m\u001b[0mcommunity\u001b[0m\u001b[0;34m.\u001b[0m\u001b[0mmerged\u001b[0m\u001b[0;34m.\u001b[0m\u001b[0mget_exchange_reactions\u001b[0m\u001b[0;34m(\u001b[0m\u001b[0;34m)\u001b[0m\u001b[0;34m)\u001b[0m\u001b[0;34m\u001b[0m\u001b[0;34m\u001b[0m\u001b[0m\n\u001b[0m\u001b[1;32m    374\u001b[0m \u001b[0;34m\u001b[0m\u001b[0m\n\u001b[1;32m    375\u001b[0m     ex_rxns, sol = minimal_medium(community.merged, direction=direction, exchange_reactions=exch_reactions,\n",
      "\u001b[0;32m~/opt/miniconda3/envs/cobrapy_env/lib/python3.8/site-packages/smetana/legacy.py\u001b[0m in \u001b[0;36mmerged\u001b[0;34m(self)\u001b[0m\n\u001b[1;32m    201\u001b[0m         \"\"\"\n\u001b[1;32m    202\u001b[0m         \u001b[0;32mif\u001b[0m \u001b[0;32mnot\u001b[0m \u001b[0mself\u001b[0m\u001b[0;34m.\u001b[0m\u001b[0m_merged_model\u001b[0m\u001b[0;34m:\u001b[0m\u001b[0;34m\u001b[0m\u001b[0;34m\u001b[0m\u001b[0m\n\u001b[0;32m--> 203\u001b[0;31m             \u001b[0mself\u001b[0m\u001b[0;34m.\u001b[0m\u001b[0m_merged_model\u001b[0m \u001b[0;34m=\u001b[0m \u001b[0mself\u001b[0m\u001b[0;34m.\u001b[0m\u001b[0mgenerate_merged_model\u001b[0m\u001b[0;34m(\u001b[0m\u001b[0;34m)\u001b[0m\u001b[0;34m\u001b[0m\u001b[0;34m\u001b[0m\u001b[0m\n\u001b[0m\u001b[1;32m    204\u001b[0m \u001b[0;34m\u001b[0m\u001b[0m\n\u001b[1;32m    205\u001b[0m         \u001b[0;32mreturn\u001b[0m \u001b[0mself\u001b[0m\u001b[0;34m.\u001b[0m\u001b[0m_merged_model\u001b[0m\u001b[0;34m\u001b[0m\u001b[0;34m\u001b[0m\u001b[0m\n",
      "\u001b[0;32m~/opt/miniconda3/envs/cobrapy_env/lib/python3.8/site-packages/smetana/legacy.py\u001b[0m in \u001b[0;36mgenerate_merged_model\u001b[0;34m(self)\u001b[0m\n\u001b[1;32m    269\u001b[0m             \u001b[0;32mreturn\u001b[0m \u001b[0mnew_obj\u001b[0m\u001b[0;34m\u001b[0m\u001b[0;34m\u001b[0m\u001b[0m\n\u001b[1;32m    270\u001b[0m \u001b[0;34m\u001b[0m\u001b[0m\n\u001b[0;32m--> 271\u001b[0;31m         \u001b[0mmodels_missing_biomass\u001b[0m \u001b[0;34m=\u001b[0m \u001b[0;34m[\u001b[0m\u001b[0mm\u001b[0m\u001b[0;34m.\u001b[0m\u001b[0mid\u001b[0m \u001b[0;32mfor\u001b[0m \u001b[0mm\u001b[0m \u001b[0;32min\u001b[0m \u001b[0mself\u001b[0m\u001b[0;34m.\u001b[0m\u001b[0m_organisms\u001b[0m\u001b[0;34m.\u001b[0m\u001b[0mvalues\u001b[0m\u001b[0;34m(\u001b[0m\u001b[0;34m)\u001b[0m \u001b[0;32mif\u001b[0m \u001b[0;32mnot\u001b[0m \u001b[0mm\u001b[0m\u001b[0;34m.\u001b[0m\u001b[0mbiomass_reaction\u001b[0m\u001b[0;34m]\u001b[0m\u001b[0;34m\u001b[0m\u001b[0;34m\u001b[0m\u001b[0m\n\u001b[0m\u001b[1;32m    272\u001b[0m         \u001b[0;32mif\u001b[0m \u001b[0mmodels_missing_biomass\u001b[0m\u001b[0;34m:\u001b[0m\u001b[0;34m\u001b[0m\u001b[0;34m\u001b[0m\u001b[0m\n\u001b[1;32m    273\u001b[0m             \u001b[0;32mraise\u001b[0m \u001b[0mRuntimeError\u001b[0m\u001b[0;34m(\u001b[0m\u001b[0;34m\"Biomass reaction not found in models: {}\"\u001b[0m\u001b[0;34m.\u001b[0m\u001b[0mformat\u001b[0m\u001b[0;34m(\u001b[0m\u001b[0;34m\"', '\"\u001b[0m\u001b[0;34m.\u001b[0m\u001b[0mjoin\u001b[0m\u001b[0;34m(\u001b[0m\u001b[0mmodels_missing_biomass\u001b[0m\u001b[0;34m)\u001b[0m\u001b[0;34m)\u001b[0m\u001b[0;34m)\u001b[0m\u001b[0;34m\u001b[0m\u001b[0;34m\u001b[0m\u001b[0m\n",
      "\u001b[0;32m~/opt/miniconda3/envs/cobrapy_env/lib/python3.8/site-packages/smetana/legacy.py\u001b[0m in \u001b[0;36m<listcomp>\u001b[0;34m(.0)\u001b[0m\n\u001b[1;32m    269\u001b[0m             \u001b[0;32mreturn\u001b[0m \u001b[0mnew_obj\u001b[0m\u001b[0;34m\u001b[0m\u001b[0;34m\u001b[0m\u001b[0m\n\u001b[1;32m    270\u001b[0m \u001b[0;34m\u001b[0m\u001b[0m\n\u001b[0;32m--> 271\u001b[0;31m         \u001b[0mmodels_missing_biomass\u001b[0m \u001b[0;34m=\u001b[0m \u001b[0;34m[\u001b[0m\u001b[0mm\u001b[0m\u001b[0;34m.\u001b[0m\u001b[0mid\u001b[0m \u001b[0;32mfor\u001b[0m \u001b[0mm\u001b[0m \u001b[0;32min\u001b[0m \u001b[0mself\u001b[0m\u001b[0;34m.\u001b[0m\u001b[0m_organisms\u001b[0m\u001b[0;34m.\u001b[0m\u001b[0mvalues\u001b[0m\u001b[0;34m(\u001b[0m\u001b[0;34m)\u001b[0m \u001b[0;32mif\u001b[0m \u001b[0;32mnot\u001b[0m \u001b[0mm\u001b[0m\u001b[0;34m.\u001b[0m\u001b[0mbiomass_reaction\u001b[0m\u001b[0;34m]\u001b[0m\u001b[0;34m\u001b[0m\u001b[0;34m\u001b[0m\u001b[0m\n\u001b[0m\u001b[1;32m    272\u001b[0m         \u001b[0;32mif\u001b[0m \u001b[0mmodels_missing_biomass\u001b[0m\u001b[0;34m:\u001b[0m\u001b[0;34m\u001b[0m\u001b[0;34m\u001b[0m\u001b[0m\n\u001b[1;32m    273\u001b[0m             \u001b[0;32mraise\u001b[0m \u001b[0mRuntimeError\u001b[0m\u001b[0;34m(\u001b[0m\u001b[0;34m\"Biomass reaction not found in models: {}\"\u001b[0m\u001b[0;34m.\u001b[0m\u001b[0mformat\u001b[0m\u001b[0;34m(\u001b[0m\u001b[0;34m\"', '\"\u001b[0m\u001b[0;34m.\u001b[0m\u001b[0mjoin\u001b[0m\u001b[0;34m(\u001b[0m\u001b[0mmodels_missing_biomass\u001b[0m\u001b[0;34m)\u001b[0m\u001b[0;34m)\u001b[0m\u001b[0;34m)\u001b[0m\u001b[0;34m\u001b[0m\u001b[0;34m\u001b[0m\u001b[0m\n",
      "\u001b[0;31mAttributeError\u001b[0m: 'Model' object has no attribute 'biomass_reaction'"
     ]
    }
   ],
   "metadata": {}
  },
  {
   "cell_type": "code",
   "execution_count": 12,
   "source": [
    "import pandas as pd\n",
    "df = pd.read_csv('./carveme_output/lactis_plant_detailed.tsv', delimiter='\\t')\n",
    "\n"
   ],
   "outputs": [],
   "metadata": {}
  },
  {
   "cell_type": "code",
   "execution_count": null,
   "source": [
    "sub_df = df.loc[(df[''])]"
   ],
   "outputs": [],
   "metadata": {}
  },
  {
   "cell_type": "code",
   "execution_count": 182,
   "source": [
    "# Select for compounds involved in mutualism\n",
    "df = df.loc[df['smetana'] > 0.0].reset_index(drop=True)\n",
    "df['clean_compounds'] = [m.replace('M_', '').replace('_e', '') for m in df['compound'].values]\n",
    "\n"
   ],
   "outputs": [],
   "metadata": {}
  },
  {
   "cell_type": "code",
   "execution_count": 183,
   "source": [
    "# Load media database\n",
    "media_db = pd.read_csv('./media_db.tsv', delimiter='\\t')\n",
    "LB_media = media_db.loc[media_db['medium'] == 'LB']\n",
    "\n",
    "LB_media_no_crossfeed = LB_media.loc[~LB_media['compound'].isin(df['clean_compounds'])]\n"
   ],
   "outputs": [],
   "metadata": {}
  },
  {
   "cell_type": "code",
   "execution_count": 184,
   "source": [
    "LB_media_no_crossfeed.to_csv('./media_plant_lactis_db.tsv', sep='\\t')"
   ],
   "outputs": [],
   "metadata": {}
  },
  {
   "cell_type": "code",
   "execution_count": 192,
   "source": [
    "l_lactis.reactions.set_flux_bounds(\"R_EX_M_h2o_e_pool\", -0, 0)\n",
    "l_lactis.slim_optimize()"
   ],
   "outputs": [
    {
     "output_type": "error",
     "ename": "AttributeError",
     "evalue": "DictList has no attribute or entry set_flux_bounds",
     "traceback": [
      "\u001b[0;31m---------------------------------------------------------------------------\u001b[0m",
      "\u001b[0;31mKeyError\u001b[0m                                  Traceback (most recent call last)",
      "\u001b[0;32m~/opt/miniconda3/envs/cobrapy_env/lib/python3.8/site-packages/cobra/core/dictlist.py\u001b[0m in \u001b[0;36m__getattr__\u001b[0;34m(self, attr)\u001b[0m\n\u001b[1;32m    451\u001b[0m         \u001b[0;32mtry\u001b[0m\u001b[0;34m:\u001b[0m\u001b[0;34m\u001b[0m\u001b[0;34m\u001b[0m\u001b[0m\n\u001b[0;32m--> 452\u001b[0;31m             \u001b[0;32mreturn\u001b[0m \u001b[0mDictList\u001b[0m\u001b[0;34m.\u001b[0m\u001b[0mget_by_id\u001b[0m\u001b[0;34m(\u001b[0m\u001b[0mself\u001b[0m\u001b[0;34m,\u001b[0m \u001b[0mattr\u001b[0m\u001b[0;34m)\u001b[0m\u001b[0;34m\u001b[0m\u001b[0;34m\u001b[0m\u001b[0m\n\u001b[0m\u001b[1;32m    453\u001b[0m         \u001b[0;32mexcept\u001b[0m \u001b[0mKeyError\u001b[0m\u001b[0;34m:\u001b[0m\u001b[0;34m\u001b[0m\u001b[0;34m\u001b[0m\u001b[0m\n",
      "\u001b[0;32m~/opt/miniconda3/envs/cobrapy_env/lib/python3.8/site-packages/cobra/core/dictlist.py\u001b[0m in \u001b[0;36mget_by_id\u001b[0;34m(self, id)\u001b[0m\n\u001b[1;32m     56\u001b[0m         \u001b[0;34m\"\"\"return the element with a matching id\"\"\"\u001b[0m\u001b[0;34m\u001b[0m\u001b[0;34m\u001b[0m\u001b[0m\n\u001b[0;32m---> 57\u001b[0;31m         \u001b[0;32mreturn\u001b[0m \u001b[0mlist\u001b[0m\u001b[0;34m.\u001b[0m\u001b[0m__getitem__\u001b[0m\u001b[0;34m(\u001b[0m\u001b[0mself\u001b[0m\u001b[0;34m,\u001b[0m \u001b[0mself\u001b[0m\u001b[0;34m.\u001b[0m\u001b[0m_dict\u001b[0m\u001b[0;34m[\u001b[0m\u001b[0mid\u001b[0m\u001b[0;34m]\u001b[0m\u001b[0;34m)\u001b[0m\u001b[0;34m\u001b[0m\u001b[0;34m\u001b[0m\u001b[0m\n\u001b[0m\u001b[1;32m     58\u001b[0m \u001b[0;34m\u001b[0m\u001b[0m\n",
      "\u001b[0;31mKeyError\u001b[0m: 'set_flux_bounds'",
      "\nDuring handling of the above exception, another exception occurred:\n",
      "\u001b[0;31mAttributeError\u001b[0m                            Traceback (most recent call last)",
      "\u001b[0;32m/var/folders/59/mfl58qxj151bv31dsnfrs1lh0000gn/T/ipykernel_14048/2836808265.py\u001b[0m in \u001b[0;36m<module>\u001b[0;34m\u001b[0m\n\u001b[0;32m----> 1\u001b[0;31m \u001b[0ml_lactis\u001b[0m\u001b[0;34m.\u001b[0m\u001b[0mreactions\u001b[0m\u001b[0;34m.\u001b[0m\u001b[0mset_flux_bounds\u001b[0m\u001b[0;34m(\u001b[0m\u001b[0;34m\"R_EX_M_h2o_e_pool\"\u001b[0m\u001b[0;34m,\u001b[0m \u001b[0;34m-\u001b[0m\u001b[0;36m0\u001b[0m\u001b[0;34m,\u001b[0m \u001b[0;36m0\u001b[0m\u001b[0;34m)\u001b[0m\u001b[0;34m\u001b[0m\u001b[0;34m\u001b[0m\u001b[0m\n\u001b[0m\u001b[1;32m      2\u001b[0m \u001b[0ml_lactis\u001b[0m\u001b[0;34m.\u001b[0m\u001b[0mslim_optimize\u001b[0m\u001b[0;34m(\u001b[0m\u001b[0;34m)\u001b[0m\u001b[0;34m\u001b[0m\u001b[0;34m\u001b[0m\u001b[0m\n",
      "\u001b[0;32m~/opt/miniconda3/envs/cobrapy_env/lib/python3.8/site-packages/cobra/core/dictlist.py\u001b[0m in \u001b[0;36m__getattr__\u001b[0;34m(self, attr)\u001b[0m\n\u001b[1;32m    452\u001b[0m             \u001b[0;32mreturn\u001b[0m \u001b[0mDictList\u001b[0m\u001b[0;34m.\u001b[0m\u001b[0mget_by_id\u001b[0m\u001b[0;34m(\u001b[0m\u001b[0mself\u001b[0m\u001b[0;34m,\u001b[0m \u001b[0mattr\u001b[0m\u001b[0;34m)\u001b[0m\u001b[0;34m\u001b[0m\u001b[0;34m\u001b[0m\u001b[0m\n\u001b[1;32m    453\u001b[0m         \u001b[0;32mexcept\u001b[0m \u001b[0mKeyError\u001b[0m\u001b[0;34m:\u001b[0m\u001b[0;34m\u001b[0m\u001b[0;34m\u001b[0m\u001b[0m\n\u001b[0;32m--> 454\u001b[0;31m             \u001b[0;32mraise\u001b[0m \u001b[0mAttributeError\u001b[0m\u001b[0;34m(\u001b[0m\u001b[0;34m\"DictList has no attribute or entry %s\"\u001b[0m \u001b[0;34m%\u001b[0m \u001b[0mattr\u001b[0m\u001b[0;34m)\u001b[0m\u001b[0;34m\u001b[0m\u001b[0;34m\u001b[0m\u001b[0m\n\u001b[0m\u001b[1;32m    455\u001b[0m \u001b[0;34m\u001b[0m\u001b[0m\n\u001b[1;32m    456\u001b[0m     \u001b[0;32mdef\u001b[0m \u001b[0m__dir__\u001b[0m\u001b[0;34m(\u001b[0m\u001b[0mself\u001b[0m\u001b[0;34m)\u001b[0m\u001b[0;34m:\u001b[0m\u001b[0;34m\u001b[0m\u001b[0;34m\u001b[0m\u001b[0m\n",
      "\u001b[0;31mAttributeError\u001b[0m: DictList has no attribute or entry set_flux_bounds"
     ]
    }
   ],
   "metadata": {}
  },
  {
   "cell_type": "code",
   "execution_count": 262,
   "source": [
    "x='EX_h2o_e'\n",
    "l_lactis.reactions.EX_h2o_e\n",
    "l_lactis.reactions.get_by_id('EX_h2o_e').upper_bound = 100.0\n",
    "l_lactis.reactions.get_by_id('EX_h2o_e').lower_bound = 0\n",
    "l_lactis.reactions.get_by_id('EX_glyc_e').lower_bound = 0\n",
    "l_lactis.reactions.get_by_id('EX_glyc_e').upper_bound = 100\n",
    "l_lactis.reactions.get_by_id('EX_so4_e').lower_bound = 0\n",
    "l_lactis.reactions.get_by_id('EX_so4_e').upper_bound = np.inf\n"
   ],
   "outputs": [],
   "metadata": {}
  },
  {
   "cell_type": "markdown",
   "source": [],
   "metadata": {}
  },
  {
   "cell_type": "code",
   "execution_count": 263,
   "source": [
    "l_lactis.slim_optimize()\n",
    "# l_lactis.reactions.get_by_id('EX_h2o_e')"
   ],
   "outputs": [
    {
     "output_type": "execute_result",
     "data": {
      "text/plain": [
       "0.0"
      ]
     },
     "metadata": {},
     "execution_count": 263
    }
   ],
   "metadata": {}
  },
  {
   "cell_type": "code",
   "execution_count": null,
   "source": [],
   "outputs": [],
   "metadata": {}
  }
 ],
 "metadata": {
  "orig_nbformat": 4,
  "language_info": {
   "name": "python",
   "version": "3.8.12",
   "mimetype": "text/x-python",
   "codemirror_mode": {
    "name": "ipython",
    "version": 3
   },
   "pygments_lexer": "ipython3",
   "nbconvert_exporter": "python",
   "file_extension": ".py"
  },
  "kernelspec": {
   "name": "python3",
   "display_name": "Python 3.8.12 64-bit ('cobrapy_env': conda)"
  },
  "interpreter": {
   "hash": "e973128d7fea54891984df6e0f5f4882d47ef4d35ba0fe6f73a400fb396b3d8c"
  }
 },
 "nbformat": 4,
 "nbformat_minor": 2
}