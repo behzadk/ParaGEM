{
 "cells": [
  {
   "cell_type": "code",
   "execution_count": 66,
   "metadata": {},
   "outputs": [],
   "source": [
    "from bk_comms import community\n",
    "from omegaconf import OmegaConf\n",
    "from hydra.utils import instantiate\n",
    "import numpy as np"
   ]
  },
  {
   "cell_type": "code",
   "execution_count": 30,
   "metadata": {},
   "outputs": [],
   "source": [
    "base_cfg_path = './bk_comms/configs/base.yaml'\n",
    "cfg = OmegaConf.load(base_cfg_path)\n",
    "\n",
    "cfg_path = './bk_comms/configs/cfg/iMM904_CDM35_base_cfg.yaml'\n",
    "cfg['cfg'] = OmegaConf.load(cfg_path)"
   ]
  },
  {
   "cell_type": "code",
   "execution_count": null,
   "metadata": {},
   "outputs": [],
   "source": []
  },
  {
   "cell_type": "code",
   "execution_count": 59,
   "metadata": {},
   "outputs": [],
   "source": [
    "wd = '/Users/bezk/Documents/CAM/research_code/yeast_LAB_coculture/'\n",
    "model_names = ['iMM904']\n",
    "model_paths = [f'{wd}/models/S_cerevisiae/iMM904.xml']\n",
    "smetana_analysis_path = f'{wd}/carveme_output/L_lactis_fbc_delGLUSx_delGLUSy_detailed.tsv'\n",
    "media_path = f'{wd}/media/media_db_CDM35.tsv'\n",
    "media_name = 'CDM35'\n",
    "use_parsimonius_fba = False\n",
    "initial_populations = [0.0062]\n"
   ]
  },
  {
   "cell_type": "code",
   "execution_count": 60,
   "metadata": {},
   "outputs": [
    {
     "data": {
      "text/plain": [
       "'/Users/bezk/Documents/CAM/research_code/yeast_LAB_coculture//carveme_output/L_lactis_fbc_delGLUSx_delGLUSy_detailed.tsv'"
      ]
     },
     "execution_count": 60,
     "metadata": {},
     "output_type": "execute_result"
    }
   ],
   "source": [
    "smetana_analysis_path"
   ]
  },
  {
   "cell_type": "code",
   "execution_count": 61,
   "metadata": {},
   "outputs": [
    {
     "name": "stderr",
     "output_type": "stream",
     "text": [
      "/Users/bezk/opt/miniconda3/envs/cobrapy_env/lib/python3.8/site-packages/reframed/io/sbml.py:512: UserWarning: Gene association for reaction R_13GS is not DNF\n",
      "  warn(f\"Gene association for reaction {reaction_id} is not DNF\")\n",
      "/Users/bezk/opt/miniconda3/envs/cobrapy_env/lib/python3.8/site-packages/reframed/io/sbml.py:512: UserWarning: Gene association for reaction R_CYOOm is not DNF\n",
      "  warn(f\"Gene association for reaction {reaction_id} is not DNF\")\n",
      "/Users/bezk/opt/miniconda3/envs/cobrapy_env/lib/python3.8/site-packages/reframed/io/sbml.py:512: UserWarning: Gene association for reaction R_CYOR_u6m is not DNF\n",
      "  warn(f\"Gene association for reaction {reaction_id} is not DNF\")\n",
      "/Users/bezk/opt/miniconda3/envs/cobrapy_env/lib/python3.8/site-packages/reframed/io/sbml.py:512: UserWarning: Gene association for reaction R_FAS180 is not DNF\n",
      "  warn(f\"Gene association for reaction {reaction_id} is not DNF\")\n",
      "/Users/bezk/opt/miniconda3/envs/cobrapy_env/lib/python3.8/site-packages/reframed/io/sbml.py:512: UserWarning: Gene association for reaction R_FAS100 is not DNF\n",
      "  warn(f\"Gene association for reaction {reaction_id} is not DNF\")\n",
      "/Users/bezk/opt/miniconda3/envs/cobrapy_env/lib/python3.8/site-packages/reframed/io/sbml.py:512: UserWarning: Gene association for reaction R_FAS100COA is not DNF\n",
      "  warn(f\"Gene association for reaction {reaction_id} is not DNF\")\n",
      "/Users/bezk/opt/miniconda3/envs/cobrapy_env/lib/python3.8/site-packages/reframed/io/sbml.py:512: UserWarning: Gene association for reaction R_FAS120 is not DNF\n",
      "  warn(f\"Gene association for reaction {reaction_id} is not DNF\")\n",
      "/Users/bezk/opt/miniconda3/envs/cobrapy_env/lib/python3.8/site-packages/reframed/io/sbml.py:512: UserWarning: Gene association for reaction R_FAS120COA is not DNF\n",
      "  warn(f\"Gene association for reaction {reaction_id} is not DNF\")\n",
      "/Users/bezk/opt/miniconda3/envs/cobrapy_env/lib/python3.8/site-packages/reframed/io/sbml.py:512: UserWarning: Gene association for reaction R_FAS140 is not DNF\n",
      "  warn(f\"Gene association for reaction {reaction_id} is not DNF\")\n",
      "/Users/bezk/opt/miniconda3/envs/cobrapy_env/lib/python3.8/site-packages/reframed/io/sbml.py:512: UserWarning: Gene association for reaction R_FAS140COA is not DNF\n",
      "  warn(f\"Gene association for reaction {reaction_id} is not DNF\")\n",
      "/Users/bezk/opt/miniconda3/envs/cobrapy_env/lib/python3.8/site-packages/reframed/io/sbml.py:512: UserWarning: Gene association for reaction R_FAS160 is not DNF\n",
      "  warn(f\"Gene association for reaction {reaction_id} is not DNF\")\n",
      "/Users/bezk/opt/miniconda3/envs/cobrapy_env/lib/python3.8/site-packages/reframed/io/sbml.py:512: UserWarning: Gene association for reaction R_FAS160COA is not DNF\n",
      "  warn(f\"Gene association for reaction {reaction_id} is not DNF\")\n",
      "/Users/bezk/opt/miniconda3/envs/cobrapy_env/lib/python3.8/site-packages/reframed/io/sbml.py:512: UserWarning: Gene association for reaction R_FAS180COA is not DNF\n",
      "  warn(f\"Gene association for reaction {reaction_id} is not DNF\")\n",
      "/Users/bezk/opt/miniconda3/envs/cobrapy_env/lib/python3.8/site-packages/reframed/io/sbml.py:512: UserWarning: Gene association for reaction R_FAS80COA_L is not DNF\n",
      "  warn(f\"Gene association for reaction {reaction_id} is not DNF\")\n",
      "/Users/bezk/opt/miniconda3/envs/cobrapy_env/lib/python3.8/site-packages/reframed/io/sbml.py:512: UserWarning: Gene association for reaction R_FAS80_L is not DNF\n",
      "  warn(f\"Gene association for reaction {reaction_id} is not DNF\")\n",
      "/Users/bezk/opt/miniconda3/envs/cobrapy_env/lib/python3.8/site-packages/reframed/io/sbml.py:512: UserWarning: Gene association for reaction R_PDHm is not DNF\n",
      "  warn(f\"Gene association for reaction {reaction_id} is not DNF\")\n",
      "/Users/bezk/opt/miniconda3/envs/cobrapy_env/lib/python3.8/site-packages/reframed/io/sbml.py:512: UserWarning: Gene association for reaction R_RNDR1 is not DNF\n",
      "  warn(f\"Gene association for reaction {reaction_id} is not DNF\")\n",
      "/Users/bezk/opt/miniconda3/envs/cobrapy_env/lib/python3.8/site-packages/reframed/io/sbml.py:512: UserWarning: Gene association for reaction R_RNDR1n is not DNF\n",
      "  warn(f\"Gene association for reaction {reaction_id} is not DNF\")\n",
      "/Users/bezk/opt/miniconda3/envs/cobrapy_env/lib/python3.8/site-packages/reframed/io/sbml.py:512: UserWarning: Gene association for reaction R_RNDR2 is not DNF\n",
      "  warn(f\"Gene association for reaction {reaction_id} is not DNF\")\n",
      "/Users/bezk/opt/miniconda3/envs/cobrapy_env/lib/python3.8/site-packages/reframed/io/sbml.py:512: UserWarning: Gene association for reaction R_RNDR2n is not DNF\n",
      "  warn(f\"Gene association for reaction {reaction_id} is not DNF\")\n",
      "/Users/bezk/opt/miniconda3/envs/cobrapy_env/lib/python3.8/site-packages/reframed/io/sbml.py:512: UserWarning: Gene association for reaction R_RNDR3 is not DNF\n",
      "  warn(f\"Gene association for reaction {reaction_id} is not DNF\")\n",
      "/Users/bezk/opt/miniconda3/envs/cobrapy_env/lib/python3.8/site-packages/reframed/io/sbml.py:512: UserWarning: Gene association for reaction R_RNDR3n is not DNF\n",
      "  warn(f\"Gene association for reaction {reaction_id} is not DNF\")\n",
      "/Users/bezk/opt/miniconda3/envs/cobrapy_env/lib/python3.8/site-packages/reframed/io/sbml.py:512: UserWarning: Gene association for reaction R_RNDR4 is not DNF\n",
      "  warn(f\"Gene association for reaction {reaction_id} is not DNF\")\n",
      "/Users/bezk/opt/miniconda3/envs/cobrapy_env/lib/python3.8/site-packages/reframed/io/sbml.py:512: UserWarning: Gene association for reaction R_RNDR4n is not DNF\n",
      "  warn(f\"Gene association for reaction {reaction_id} is not DNF\")\n",
      "/Users/bezk/opt/miniconda3/envs/cobrapy_env/lib/python3.8/site-packages/reframed/io/sbml.py:512: UserWarning: Gene association for reaction R_SERPT is not DNF\n",
      "  warn(f\"Gene association for reaction {reaction_id} is not DNF\")\n",
      "/Users/bezk/opt/miniconda3/envs/cobrapy_env/lib/python3.8/site-packages/reframed/io/sbml.py:512: UserWarning: Gene association for reaction R_THFATm is not DNF\n",
      "  warn(f\"Gene association for reaction {reaction_id} is not DNF\")\n"
     ]
    },
    {
     "name": "stdout",
     "output_type": "stream",
     "text": [
      "Total env compounds: 164\n",
      "Crossfeeding compounds: 29\n",
      "Competition compounds: 1\n",
      "Media compounds: 32\n",
      "Dynamic compounds: 50\n",
      "Academic license - for non-commercial use only - expires 2022-11-17\n",
      "Using license file /Users/bezk/gurobi.lic\n",
      "Scaling...\n",
      " A: min|aij| =  1.000e+00  max|aij| =  1.000e+00  ratio =  1.000e+00\n",
      "Problem data seem to be well scaled\n",
      "Defined in media file and model media EX_fe2_e\n",
      "Defined in media file and model media EX_glc__D_e\n",
      "Defined in media file and model media EX_h2o_e\n",
      "Defined in media file and model media EX_h_e\n",
      "Defined in media file and model media EX_k_e\n",
      "Defined in media file and model media EX_na1_e\n",
      "Defined in media file and model media EX_so4_e\n",
      "Defined in media file and model media EX_nh4_e\n",
      "Defined in media file and model media EX_o2_e\n",
      "Defined in media file and model media EX_pi_e\n"
     ]
    }
   ],
   "source": [
    "comm = community.Community(model_names=model_names, model_paths=model_paths, \n",
    "smetana_analysis_path=smetana_analysis_path, \n",
    "media_path=media_path, media_name=media_name, \n",
    "use_parsimonius_fba=use_parsimonius_fba, \n",
    "initial_populations=initial_populations)\n"
   ]
  },
  {
   "cell_type": "code",
   "execution_count": 86,
   "metadata": {},
   "outputs": [],
   "source": [
    "def calculate_growth_rate(comm):\n",
    "    comm.populations[0].optimize()\n",
    "\n",
    "    return (comm.populations[0].get_growth_rate())\n",
    "\n",
    "def get_solution_index(comm, sol_element_key):\n",
    "    idx = comm.solution_keys.index(sol_element_key)\n",
    "    return idx\n",
    "\n",
    "def get_dynamic_compound_index(comm, sol_element_key):\n",
    "    idx = comm.dynamic_compounds.index(sol_element_key)\n",
    "    return idx\n"
   ]
  },
  {
   "cell_type": "code",
   "execution_count": 103,
   "metadata": {},
   "outputs": [
    {
     "name": "stdout",
     "output_type": "stream",
     "text": [
      "0.3090261009877392 2.0\n",
      "0.3591743393594364 2.0\n",
      "0.46384014954028185 2.0\n",
      "0.3835202226702276 2.0\n",
      "0.3141795280236357 2.0\n",
      "0.3368264802524727 2.0\n",
      "0.34977111076615125 2.0\n",
      "0.31187544784149385 2.0\n",
      "0.5841775995620296 2.0\n",
      "0.3862144156554115 2.0\n",
      "0.4162397082278871 2.0\n",
      "0.2250580322485975 2.0\n",
      "0.3880620709165978 2.0\n",
      "0.36050279851075273 2.0\n",
      "0.43345788468926844 2.0\n",
      "0.44307150281266255 2.0\n",
      "0.3138039927482246 2.0\n",
      "0.32447959524970255 2.0\n",
      "0.38641656936764734 2.0\n",
      "0.20943956771385103 2.0\n",
      "0.4665217099471597 2.0\n",
      "0.37801212759667807 2.0\n",
      "0.49573703108693695 2.0\n",
      "0.3658032951311042 2.0\n",
      "0.3720047445344264 2.0\n",
      "0.3439445256519552 2.0\n",
      "0.36356491707269645 2.0\n",
      "0.3052203117202307 2.0\n",
      "0.2627033027970952 2.0\n",
      "0.31651249738994214 2.0\n",
      "0.28325205384731056 2.0\n",
      "0.4448585710197976 2.0\n",
      "0.33410626668964133 2.0\n",
      "0.3740523746900701 2.0\n",
      "0.38611296173045045 2.0\n",
      "0.3006598275788047 2.0\n",
      "0.41344543715688364 2.0\n",
      "0.44465381452973113 2.0\n",
      "0.46209322293979427 2.0\n",
      "0.25186146424269423 2.0\n",
      "0.429842732817951 2.0\n",
      "0.378815594246843 2.0\n",
      "0.40124870884378355 2.0\n",
      "0.3826538196918279 2.0\n",
      "0.2592204466934987 2.0\n",
      "0.31219483541219445 2.0\n",
      "0.40205817088302237 2.0\n",
      "0.3963046309056343 2.0\n",
      "0.30539378710605813 2.0\n",
      "0.3868329059640044 2.0\n",
      "0.4945492135963843 2.0\n",
      "0.4309158411609284 2.0\n",
      "0.25409565754317853 2.0\n",
      "0.3715987728346324 2.0\n",
      "0.5231021506338044 2.0\n",
      "0.44532832941314276 2.0\n",
      "0.4254276853387112 2.0\n",
      "0.36622540810893106 2.0\n",
      "0.4487762718408415 2.0\n",
      "0.4037662146827014 2.0\n",
      "0.48132730218327935 2.0\n",
      "0.39916257119467113 2.0\n",
      "0.404509578577716 2.0\n",
      "0.3825756468615033 2.0\n",
      "0.47090997769223847 2.0\n",
      "0.2931308488319183 2.0\n",
      "0.37246605331402927 2.0\n",
      "0.2139581683080634 2.0\n",
      "0.34801804849746626 2.0\n",
      "0.36670117782482187 2.0\n",
      "0.5317471878317176 2.0\n",
      "0.42454375286095636 2.0\n",
      "0.5628560302488114 2.0\n",
      "0.38681773882955073 2.0\n",
      "0.3305405199330031 2.0\n",
      "0.4428170016320437 2.0\n",
      "0.3209464805446356 2.0\n",
      "0.36480721344054123 2.0\n",
      "0.4468544492858288 2.0\n",
      "0.2934168000575798 2.0\n",
      "0.3660838032919917 2.0\n",
      "0.2819798508855509 2.0\n",
      "0.36567685383121684 2.0\n",
      "0.35413356298292786 2.0\n",
      "0.37508041021107735 2.0\n",
      "0.4099176928446714 2.0\n",
      "0.42422667373594 2.0\n",
      "0.2801709672102958 2.0\n",
      "0.4210987019249781 2.0\n",
      "0.37895475165216624 2.0\n",
      "0.37399376036817217 2.0\n",
      "0.36463679653440617 2.0\n",
      "0.4302491709483455 2.0\n",
      "0.47275429866399166 2.0\n",
      "0.30548636912901006 2.0\n",
      "0.30321711543528024 2.0\n",
      "0.349655007900357 2.0\n",
      "0.4945766682541021 2.0\n",
      "0.37713875518600437 2.0\n",
      "0.2172139625266634 2.0\n"
     ]
    }
   ],
   "source": [
    "# Randomly sample matrix\n",
    "# Sample new max uptake matrix\n",
    "\n",
    "for x in range(100):\n",
    "    array_size = [len(comm.populations), len(comm.dynamic_compounds)]\n",
    "\n",
    "    # max_exchange_mat = np.ones(shape=array_size)\n",
    "    # max_exchange_mat = max_exchange_mat * -10\n",
    "    max_exchange_mat =np.random.normal(loc=-2.0, scale=0.5, size=array_size)\n",
    "    glu_dyn_idx = get_dynamic_compound_index(comm, 'M_glu__L_e')\n",
    "    max_exchange_mat[0][glu_dyn_idx] = 2.0\n",
    "\n",
    "    comm.set_max_exchange_mat(max_exchange_mat)\n",
    "\n",
    "    k_val_mat = np.ones(shape=array_size)\n",
    "    k_val_mat = k_val_mat * 1e-10\n",
    "    comm.set_k_value_matrix(k_val_mat)\n",
    "\n",
    "    x = calculate_growth_rate(comm)\n",
    "    growth_rates, flux_matrix = comm.sim_step(comm.init_y)\n",
    "    \n",
    "    print(growth_rates[0], flux_matrix[0][glu_dyn_idx])\n"
   ]
  },
  {
   "cell_type": "code",
   "execution_count": null,
   "metadata": {},
   "outputs": [],
   "source": []
  },
  {
   "cell_type": "code",
   "execution_count": null,
   "metadata": {},
   "outputs": [],
   "source": []
  }
 ],
 "metadata": {
  "interpreter": {
   "hash": "3d80f51734e97658c5b439a777cf75ff5e6c69f10fa8876763d9a92280b81a65"
  },
  "kernelspec": {
   "display_name": "Python 3.8.12 64-bit ('cobrapy_env': conda)",
   "language": "python",
   "name": "python3"
  },
  "language_info": {
   "codemirror_mode": {
    "name": "ipython",
    "version": 3
   },
   "file_extension": ".py",
   "mimetype": "text/x-python",
   "name": "python",
   "nbconvert_exporter": "python",
   "pygments_lexer": "ipython3",
   "version": "3.8.12"
  },
  "orig_nbformat": 4
 },
 "nbformat": 4,
 "nbformat_minor": 2
}
